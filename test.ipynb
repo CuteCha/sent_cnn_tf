{
 "cells": [
  {
   "cell_type": "code",
   "execution_count": 1,
   "metadata": {
    "collapsed": false
   },
   "outputs": [],
   "source": [
    "import numpy as np\n",
    "import tensorflow as tf\n",
    "import datetime\n",
    "import data_helpers\n",
    "import train_cnn\n",
    "from sent_cnn import SentCNN\n",
    "import config\n",
    "%load_ext autoreload\n",
    "%autoreload 2"
   ]
  },
  {
   "cell_type": "code",
   "execution_count": 2,
   "metadata": {
    "collapsed": false
   },
   "outputs": [],
   "source": [
    "x_u_i, x_r_i, y, max_len, U = train_cnn.load_data(config.config)"
   ]
  },
  {
   "cell_type": "code",
   "execution_count": null,
   "metadata": {
    "collapsed": false
   },
   "outputs": [
    {
     "name": "stdout",
     "output_type": "stream",
     "text": [
      "DEBUG: embedded_u -> Tensor(\"embedding/embedding_lookup:0\", shape=(?, 22, 100), dtype=float32)\n",
      "DEBUG: embedded_r -> Tensor(\"embedding/embedding_lookup_1:0\", shape=(?, 6, 22, 100), dtype=float32)\n",
      "DEBUG: embedded_u_expanded -> Tensor(\"embedding/ExpandDims:0\", shape=(?, 22, 100, 1), dtype=float32)\n",
      "DEBUG: embedded_r_expanded -> Tensor(\"embedding/ExpandDims_1:0\", shape=(?, 6, 22, 100, 1), dtype=float32)\n",
      "DEBUG: pooled_outputs_u -> [<tf.Tensor 'conv-maxpool-3-u/pool-u:0' shape=(?, 1, 1, 4) dtype=float32>, <tf.Tensor 'conv-maxpool-4-u/pool-u:0' shape=(?, 1, 1, 4) dtype=float32>]\n",
      "DEBUG: h_pool_u -> Tensor(\"concat:0\", shape=(?, 1, 1, 8), dtype=float32)\n",
      "DEBUG: h_pool_flat_u -> Tensor(\"Reshape:0\", shape=(?, 1, 8), dtype=float32)\n",
      "DEBUG: pooled_outputs_r -> [<tf.Tensor 'conv-maxpool-3-u/concat:0' shape=(?, 1, 6, 4) dtype=float32>, <tf.Tensor 'conv-maxpool-4-u/concat:0' shape=(?, 1, 6, 4) dtype=float32>]\n",
      "DEBUG: h_pool_r -> Tensor(\"concat_1:0\", shape=(?, 1, 6, 8), dtype=float32)\n",
      "DEBUG: h_pool_flat_r -> Tensor(\"Reshape_1:0\", shape=(?, 6, 8), dtype=float32)\n",
      "DEBUG: h_features -> Tensor(\"dropout/concat:0\", shape=(?, 7, 8), dtype=float32)\n",
      "DEBUG: dot -> Tensor(\"cosine_layer/Sum:0\", shape=(?, 6), dtype=float32)\n",
      "DEBUG: sqrt_u -> Tensor(\"cosine_layer/Sqrt:0\", shape=(?, 1), dtype=float32)\n",
      "DEBUG: sqrt_r -> Tensor(\"cosine_layer/Sqrt_1:0\", shape=(?, 6), dtype=float32)\n",
      "DEBUG: cosine -> Tensor(\"cosine_layer/Maximum_1:0\", shape=(?, 6), dtype=float32)\n",
      "DEBUG: predictions -> Tensor(\"cosine_layer/predictions:0\", shape=(?,), dtype=int64)\n",
      "Writing to /opt/tensor/notebooks/liushuaiyi/cnn4aqqu/runs/1463592238\n",
      "\n"
     ]
    }
   ],
   "source": [
    "train_cnn.train_cnn(x_u_i, x_r_i, y, max_len, U, config.config,debug=False)"
   ]
  },
  {
   "cell_type": "code",
   "execution_count": null,
   "metadata": {
    "collapsed": true
   },
   "outputs": [],
   "source": []
  }
 ],
 "metadata": {
  "kernelspec": {
   "display_name": "Python 2",
   "language": "python",
   "name": "python2"
  },
  "language_info": {
   "codemirror_mode": {
    "name": "ipython",
    "version": 2
   },
   "file_extension": ".py",
   "mimetype": "text/x-python",
   "name": "python",
   "nbconvert_exporter": "python",
   "pygments_lexer": "ipython2",
   "version": "2.7.6"
  }
 },
 "nbformat": 4,
 "nbformat_minor": 0
}
