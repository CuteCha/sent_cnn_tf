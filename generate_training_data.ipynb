{
 "cells": [
  {
   "cell_type": "markdown",
   "metadata": {},
   "source": [
    "# Data Generation for DSSM"
   ]
  },
  {
   "cell_type": "code",
   "execution_count": 2,
   "metadata": {
    "collapsed": false
   },
   "outputs": [],
   "source": [
    "import copy\n",
    "import string\n",
    "\n",
    "TRAIN_NN_Q_EP = \"./data/webquestions.examples.train.e2e.top10.filter.q_ep.sid.tsv\"\n",
    "TRAIN_NN_Q_PATREL = \"./data/webquestions.examples.train.e2e.top10.filter.patrel.sid.tsv\"\n",
    "f_ep = open(TRAIN_NN_Q_EP, 'r')\n",
    "f_patrel = open(TRAIN_NN_Q_PATREL, 'r')\n",
    "\n",
    "data_ep_positive = []\n",
    "data_ep_negative = []\n",
    "for data_ep_str in f_ep:\n",
    "    data_ep = data_ep_str.split('\\t')\n",
    "    if float(data_ep[0]) >= 0.5:\n",
    "        data_ep_positive.append(data_ep)\n",
    "    if float(data_ep[0]) == 0:\n",
    "        data_ep_negative.append(data_ep)\n",
    "        \n",
    "data_patrel_positive = []\n",
    "data_patrel_negative = []\n",
    "for data_patrel_str in f_patrel:\n",
    "    data_patrel = data_patrel_str.split('\\t')\n",
    "    if float(data_patrel[0]) >= 0.5:\n",
    "        data_patrel_positive.append(data_patrel)\n",
    "    if float(data_patrel[0]) == 0:\n",
    "        data_patrel_negative.append(data_patrel)\n",
    "\n",
    "# test to see if everything is all right\n",
    "\n",
    "# Remember to close files"
   ]
  },
  {
   "cell_type": "markdown",
   "metadata": {},
   "source": [
    "## Find the 2nd entity"
   ]
  },
  {
   "cell_type": "code",
   "execution_count": 3,
   "metadata": {
    "collapsed": false
   },
   "outputs": [
    {
     "name": "stdout",
     "output_type": "stream",
     "text": [
      "4213\n"
     ]
    }
   ],
   "source": [
    "data_ep_qualified_new = copy.deepcopy(data_ep_qualified)\n",
    "data_patrel_qualified_new = copy.deepcopy(data_patrel_qualified)\n",
    "\n",
    "E2E = \"webquestions.examples.train.e2e.top10.filter.tsv\"\n",
    "f_e2e = open(E2E, 'r')\n",
    "\n",
    "# tranlate table\n",
    "tbl = string.maketrans('_', ' ')\n",
    "\n",
    "rel_iter = 0\n",
    "add_count = 0\n",
    "question_num_rel = lambda x: int(data_ep_qualified[x][-1].strip().split('-')[1])\n",
    "for e2e_raw in f_e2e:\n",
    "    e2e_data = e2e_raw.split('\\t')\n",
    "    question_num_e2e = int(e2e_data[0].split('-')[1])\n",
    "    \n",
    "    if question_num_e2e < question_num_rel(rel_iter):\n",
    "        continue\n",
    "    rel_iter_tmp = rel_iter\n",
    "    while question_num_e2e == question_num_rel(rel_iter):\n",
    "        e = e2e_data[-2].translate(tbl)\n",
    "        e_rel = data_ep_qualified[rel_iter][-2].split()[0]\n",
    "        \n",
    "        if not e.startswith(e_rel):\n",
    "            data_ep_qualified_new[rel_iter].append(\"new+%s\"%e)\n",
    "            add_count += 1\n",
    "        rel_iter += 1\n",
    "        if rel_iter >= len(data_ep_qualified):\n",
    "            break\n",
    "\n",
    "    rel_iter = rel_iter_tmp\n",
    "    while question_num_e2e > question_num_rel(rel_iter):\n",
    "        rel_iter += 1\n",
    "print add_count"
   ]
  },
  {
   "cell_type": "code",
   "execution_count": 115,
   "metadata": {
    "collapsed": false
   },
   "outputs": [
    {
     "name": "stdout",
     "output_type": "stream",
     "text": [
      "['1', 'what is the name of justin bieber brother', 'Justin Bieber people.person.sibling_s people.sibling_relationship.sibling', 'WebQTrn-0\\r\\n']\n",
      "['1', 'what state does selena gomez', 'Selena Gomez people.person.places_lived people.place_lived.location', 'WebQTrn-2\\r\\n']\n",
      "['1', 'what country is the grand bahama island in', 'Grand Bahama location.location.containedby', 'WebQTrn-3\\r\\n']\n",
      "['1', 'what kind of money to take to bahamas', 'The Bahamas location.country.currency_used', 'WebQTrn-4\\r\\n']\n",
      "['1', 'who does joakim noah play for', 'Joakim Noah sports.pro_athlete.teams basketball.basketball_roster_position.team', 'WebQTrn-6\\r\\n']\n",
      "['1', 'who does joakim noah play for', 'Joakim Noah basketball.basketball_player.team basketball.basketball_roster_position.team', 'WebQTrn-6\\r\\n']\n",
      "['0.666666666666667', 'who does joakim noah play for', 'Joakim Noah sports.pro_athlete.teams sports.sports_team_roster.team', 'WebQTrn-6\\r\\n']\n",
      "['1', 'who does joakim noah play for', 'Joakim Noah basketball.basketball_player.team sports.sports_team_roster.team', 'WebQTrn-6\\r\\n']\n",
      "['1', 'who does joakim noah play for', 'Joakim Noah basketball.basketball_player.player_statistics basketball.basketball_player_stats.team', 'WebQTrn-6\\r\\n']\n",
      "['1', 'who does joakim noah play for', 'Joakim Noah sports.drafted_athlete.drafted sports.sports_league_draft_pick.team', 'WebQTrn-6\\r\\n']\n",
      "['1', 'who does joakim noah play for', 'Joakim Noah base.schemastaging.athlete_extra.salary base.schemastaging.athlete_salary.team', 'WebQTrn-6\\r\\n']\n",
      "['1', 'where are the nfl redskins from', 'Washington Redskins user.szaijan.fantasy_football.player.nfl_team', 'WebQTrn-7\\r\\n', 'new+National Football League', 'new+NFL Network']\n",
      "['1', 'where did saki live', 'Saki people.person.nationality', 'WebQTrn-8\\r\\n']\n",
      "['1', 'how old is sacha baron cohen', 'Sacha Baron Cohen base.popstra.celebrity.insult_victim base.popstra.public_insult.perpetrator', 'WebQTrn-9\\r\\n']\n",
      "['1', 'who did draco malloy end up marrying', 'Draco Malfoy fictional_universe.fictional_character.married_to fictional_universe.marriage_of_fictional_characters.spouses', 'WebQTrn-12\\r\\n', 'new+Dannel Malloy', 'new+Janine Butcher', 'new+Michael Malloy', 'new+Francis Drake']\n",
      "['1', 'where is rome italy located on a map', 'Rome user.narphorium.default_domain.base_equivalent_location.base', 'WebQTrn-14\\r\\n', 'new+Italy', 'new+Italian Peninsula', 'new+Italy national football team']\n",
      "['1', 'where is rome italy located on a map', 'Italy location.country.capital', 'WebQTrn-14\\r\\n', 'new+Rome', 'new+Italian Peninsula', 'new+Rome (TV series)']\n",
      "['0.666666666666667', 'what is nina dobrev nationality', 'Nina Dobrev people.person.nationality', 'WebQTrn-15\\r\\n']\n",
      "['1', 'which kennedy died first', 'John F. Kennedy fictional_universe.person_in_fiction.representations_in_fiction', 'WebQTrn-17\\r\\n']\n",
      "['0.666666666666667', 'which kennedy died first', 'John F. Kennedy visual_art.art_subject.artwork_on_the_subject', 'WebQTrn-17\\r\\n']\n"
     ]
    }
   ],
   "source": []
  },
  {
   "cell_type": "code",
   "execution_count": 116,
   "metadata": {
    "collapsed": false
   },
   "outputs": [
    {
     "ename": "IndexError",
     "evalue": "list index out of range",
     "output_type": "error",
     "traceback": [
      "\u001b[0;31m---------------------------------------------------------------------------\u001b[0m",
      "\u001b[0;31mIndexError\u001b[0m                                Traceback (most recent call last)",
      "\u001b[0;32m<ipython-input-116-c547b065d17c>\u001b[0m in \u001b[0;36m<module>\u001b[0;34m()\u001b[0m\n\u001b[0;32m----> 1\u001b[0;31m \u001b[0mquestion_num_rel\u001b[0m\u001b[0;34m(\u001b[0m\u001b[0;36m4410\u001b[0m\u001b[0;34m)\u001b[0m\u001b[0;34m\u001b[0m\u001b[0m\n\u001b[0m",
      "\u001b[0;32m<ipython-input-114-878ba97cbcde>\u001b[0m in \u001b[0;36m<lambda>\u001b[0;34m(x)\u001b[0m\n\u001b[1;32m     10\u001b[0m \u001b[0mrel_iter\u001b[0m \u001b[0;34m=\u001b[0m \u001b[0;36m0\u001b[0m\u001b[0;34m\u001b[0m\u001b[0m\n\u001b[1;32m     11\u001b[0m \u001b[0madd_count\u001b[0m \u001b[0;34m=\u001b[0m \u001b[0;36m0\u001b[0m\u001b[0;34m\u001b[0m\u001b[0m\n\u001b[0;32m---> 12\u001b[0;31m \u001b[0mquestion_num_rel\u001b[0m \u001b[0;34m=\u001b[0m \u001b[0;32mlambda\u001b[0m \u001b[0mx\u001b[0m\u001b[0;34m:\u001b[0m \u001b[0mint\u001b[0m\u001b[0;34m(\u001b[0m\u001b[0mdata_ep_qualified\u001b[0m\u001b[0;34m[\u001b[0m\u001b[0mx\u001b[0m\u001b[0;34m]\u001b[0m\u001b[0;34m[\u001b[0m\u001b[0;34m-\u001b[0m\u001b[0;36m1\u001b[0m\u001b[0;34m]\u001b[0m\u001b[0;34m.\u001b[0m\u001b[0mstrip\u001b[0m\u001b[0;34m(\u001b[0m\u001b[0;34m)\u001b[0m\u001b[0;34m.\u001b[0m\u001b[0msplit\u001b[0m\u001b[0;34m(\u001b[0m\u001b[0;34m'-'\u001b[0m\u001b[0;34m)\u001b[0m\u001b[0;34m[\u001b[0m\u001b[0;36m1\u001b[0m\u001b[0;34m]\u001b[0m\u001b[0;34m)\u001b[0m\u001b[0;34m\u001b[0m\u001b[0m\n\u001b[0m\u001b[1;32m     13\u001b[0m \u001b[0;32mfor\u001b[0m \u001b[0me2e_raw\u001b[0m \u001b[0;32min\u001b[0m \u001b[0mf_e2e\u001b[0m\u001b[0;34m:\u001b[0m\u001b[0;34m\u001b[0m\u001b[0m\n\u001b[1;32m     14\u001b[0m     \u001b[0me2e_data\u001b[0m \u001b[0;34m=\u001b[0m \u001b[0me2e_raw\u001b[0m\u001b[0;34m.\u001b[0m\u001b[0msplit\u001b[0m\u001b[0;34m(\u001b[0m\u001b[0;34m'\\t'\u001b[0m\u001b[0;34m)\u001b[0m\u001b[0;34m\u001b[0m\u001b[0m\n",
      "\u001b[0;31mIndexError\u001b[0m: list index out of range"
     ]
    }
   ],
   "source": [
    "question_num_rel(4410)"
   ]
  },
  {
   "cell_type": "code",
   "execution_count": null,
   "metadata": {
    "collapsed": true
   },
   "outputs": [],
   "source": []
  }
 ],
 "metadata": {
  "kernelspec": {
   "display_name": "Python 2",
   "language": "python",
   "name": "python2"
  },
  "language_info": {
   "codemirror_mode": {
    "name": "ipython",
    "version": 2
   },
   "file_extension": ".py",
   "mimetype": "text/x-python",
   "name": "python",
   "nbconvert_exporter": "python",
   "pygments_lexer": "ipython2",
   "version": "2.7.6"
  }
 },
 "nbformat": 4,
 "nbformat_minor": 0
}
